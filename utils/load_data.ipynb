{
  "nbformat": 4,
  "nbformat_minor": 0,
  "metadata": {
    "colab": {
      "name": "load_data.ipynb",
      "provenance": [],
      "collapsed_sections": [],
      "authorship_tag": "ABX9TyOFz9rQMwkIQ0kd+AzlcR61",
      "include_colab_link": true
    },
    "kernelspec": {
      "name": "python3",
      "display_name": "Python 3"
    },
    "language_info": {
      "name": "python"
    }
  },
  "cells": [
    {
      "cell_type": "markdown",
      "metadata": {
        "id": "view-in-github",
        "colab_type": "text"
      },
      "source": [
        "<a href=\"https://colab.research.google.com/github/PsorTheDoctor/microarray-data/blob/main/utils/load_data.ipynb\" target=\"_parent\"><img src=\"https://colab.research.google.com/assets/colab-badge.svg\" alt=\"Open In Colab\"/></a>"
      ]
    },
    {
      "cell_type": "markdown",
      "metadata": {
        "id": "iFEV6osNKMEL"
      },
      "source": [
        "#Przygotowanie danych mikromacierzowych"
      ]
    },
    {
      "cell_type": "code",
      "metadata": {
        "id": "3IBzJfffzSvN",
        "outputId": "1c113f1e-50a7-45e3-d1c9-351d5f63f23c",
        "colab": {
          "base_uri": "https://localhost:8080/"
        }
      },
      "source": [
        "!git clone https://github.com/PsorTheDoctor/microarray-data.git\n",
        "%cd microarray-data/"
      ],
      "execution_count": 4,
      "outputs": [
        {
          "output_type": "stream",
          "text": [
            "Cloning into 'microarray-data'...\n",
            "remote: Enumerating objects: 89, done.\u001b[K\n",
            "remote: Counting objects: 100% (89/89), done.\u001b[K\n",
            "remote: Compressing objects: 100% (82/82), done.\u001b[K\n",
            "remote: Total 89 (delta 27), reused 0 (delta 0), pack-reused 0\u001b[K\n",
            "Unpacking objects: 100% (89/89), done.\n",
            "/content/microarray-data\n"
          ],
          "name": "stdout"
        }
      ]
    },
    {
      "cell_type": "code",
      "metadata": {
        "id": "JbTEJ3hOg3S4"
      },
      "source": [
        "import numpy as np\n",
        "import pandas as pd\n",
        "import matplotlib.pyplot as plt\n",
        "import tensorflow as tf\n",
        "import os\n",
        "from scipy.io import arff\n",
        "from sklearn.preprocessing import MinMaxScaler"
      ],
      "execution_count": 1,
      "outputs": []
    },
    {
      "cell_type": "code",
      "metadata": {
        "id": "pnVvmlk14qR_"
      },
      "source": [
        "def load_data(path='/content/microarray-data/data/'):\n",
        "  \"\"\"\n",
        "  Funkcja działa analogicznie do load_data zbioru MNIST.\n",
        "  Zwraca (X_train, y_train), (X_test, y_test) o wymiarach:\n",
        "  (900, 20, 50)\n",
        "  (900,)\n",
        "  (157, 20, 50)\n",
        "  (157,)\n",
        "  Dla potrzeb wizualizacji każdy gen przyjmuje wymiary prostokąta 20 x 50.\n",
        "  \"\"\"\n",
        "  microarrays = []\n",
        "\n",
        "  # Załadowanie danych\n",
        "  for filename in os.listdir(path):\n",
        "    full_path = os.path.join(path, filename)\n",
        "\n",
        "    if os.path.isfile(full_path):\n",
        "      if filename[-5:] == '.arff':\n",
        "        microarray, _ = arff.loadarff(full_path)\n",
        "        microarrays.append(microarray)\n",
        "\n",
        "  # Konkatenacja danych z plików do jednej listy o długości 1057\n",
        "  data = [*microarrays[0], *microarrays[1], *microarrays[2], *microarrays[3],\n",
        "          *microarrays[4], *microarrays[5], *microarrays[6], *microarrays[7]]\n",
        "\n",
        "  # 1057 pacjentów\n",
        "  patients = len(data)\n",
        "  # 1000 genów i 1 etykieta na pacjenta\n",
        "  genes = len(data[0]) - 1\n",
        "\n",
        "  # Zamiana listy data na macierze numpy\n",
        "  X_flatten = np.zeros((patients, genes))\n",
        "  X_reshaped = np.zeros((patients, 20, 50))\n",
        "  y = np.zeros(patients)\n",
        "\n",
        "  for i in range(patients):\n",
        "    for j in range(genes):\n",
        "      X_flatten[i][j] = data[i][j]\n",
        "\n",
        "    # Normalizacja w przedziale <0, 1> w obrębie pojedynczego genu\n",
        "    df = pd.DataFrame(X_flatten[i])\n",
        "    x = df.select_dtypes(include=[np.number])\n",
        "    scaler = MinMaxScaler(feature_range=(0, 1))\n",
        "    x_norm = scaler.fit_transform(x)\n",
        "\n",
        "    # Zmiana kształtu genu na 20 x 50\n",
        "    X_reshaped[i] = np.reshape(x_norm, (20, 50))\n",
        "\n",
        "    # Zastąpienie etykiet wartościami logicznymi\n",
        "    if str(data[i][1000]) == \"b'yes'\":\n",
        "      y[i] = 1\n",
        "    elif str(data[i][1000]) == \"b'no'\":\n",
        "      y[i] = 0\n",
        "\n",
        "  # Przetasowanie elementów\n",
        "  indices = np.arange(1057)\n",
        "  X_shuffled = tf.gather(X_reshaped, indices)\n",
        "  y_shuffled = tf.gather(y, indices)\n",
        "\n",
        "  # Podział na zbiór treningowy i testowy\n",
        "  X_train = X_shuffled[:900]\n",
        "  X_test = X_shuffled[-157:]\n",
        "  y_train = y_shuffled[:900]\n",
        "  y_test = y_shuffled[-157:]\n",
        "\n",
        "  return (X_train, y_train), (X_test, y_test)"
      ],
      "execution_count": 2,
      "outputs": []
    },
    {
      "cell_type": "code",
      "metadata": {
        "colab": {
          "base_uri": "https://localhost:8080/"
        },
        "id": "DBirzkbWBWUP",
        "outputId": "5cc6d801-02a4-44f5-edc6-ee97c5ed22b7"
      },
      "source": [
        "(X_train, y_train), (X_test, y_test) = load_data()\n",
        "\n",
        "print(X_train.shape)\n",
        "print(X_test.shape)\n",
        "print(y_train.shape)\n",
        "print(y_test.shape)"
      ],
      "execution_count": 5,
      "outputs": [
        {
          "output_type": "stream",
          "text": [
            "(900, 20, 50)\n",
            "(157, 20, 50)\n",
            "(900,)\n",
            "(157,)\n"
          ],
          "name": "stdout"
        }
      ]
    },
    {
      "cell_type": "code",
      "metadata": {
        "colab": {
          "base_uri": "https://localhost:8080/",
          "height": 199
        },
        "id": "kHtAOVxQE1-F",
        "outputId": "758157cd-9450-4601-b703-0a88899db688"
      },
      "source": [
        "plt.imshow(X_train[0], cmap='viridis')"
      ],
      "execution_count": 7,
      "outputs": [
        {
          "output_type": "execute_result",
          "data": {
            "text/plain": [
              "<matplotlib.image.AxesImage at 0x7fe463154090>"
            ]
          },
          "metadata": {
            "tags": []
          },
          "execution_count": 7
        },
        {
          "output_type": "display_data",
          "data": {
            "image/png": "[encoded data removed]",
            "text/plain": [
              "<Figure size 432x288 with 1 Axes>"
            ]
          },
          "metadata": {
            "tags": [],
            "needs_background": "light"
          }
        }
      ]
    },
    {
      "cell_type": "code",
      "metadata": {
        "id": "JZ8YgULGzd-k"
      },
      "source": [
        "# Do użycia podczas trenowania GANów i sieci niewymagających etykiet\n",
        "def load_data_by_label(label):\n",
        "  \"\"\"\n",
        "  Zwraca (X_train, X_test) o wymiarach:\n",
        "  (n, 20, 50)\n",
        "  (n, 20, 50)\n",
        "  Gdzie n jest liczbą przypadków oznaczonych daną etykietą.\n",
        "  \"\"\"\n",
        "  (X_train, y_train), (X_test, y_test) = load_data()\n",
        "\n",
        "  assert X_train.shape[0] == y_train.shape[0]\n",
        "  assert X_test.shape[0] == y_test.shape[0]\n",
        "  assert label == 0 or label == 1\n",
        "\n",
        "  X_pos_train = []\n",
        "  for i in range(X_train.shape[0]):\n",
        "    if y_train[i] == label:\n",
        "      X_pos_train.append(X_train[i])\n",
        "\n",
        "  X_pos_test = []\n",
        "  for i in range(X_test.shape[0]):\n",
        "    if y_test[i] == label:\n",
        "      X_pos_test.append(X_test[i])\n",
        "\n",
        "  X_pos_train = np.array(X_pos_train)\n",
        "  X_pos_test = np.array(X_pos_test)\n",
        "\n",
        "  return X_pos_train, X_pos_test"
      ],
      "execution_count": 11,
      "outputs": []
    },
    {
      "cell_type": "code",
      "metadata": {
        "id": "ufJcJUrO3Kye",
        "outputId": "2716d1c6-74e3-499c-b54b-80b41f9ac971",
        "colab": {
          "base_uri": "https://localhost:8080/"
        }
      },
      "source": [
        "# Przypadki pozytywne\n",
        "(X_pos_train, X_pos_test) = load_data_by_label(label=1)\n",
        "\n",
        "print(X_pos_train.shape)\n",
        "print(X_pos_test.shape)"
      ],
      "execution_count": 13,
      "outputs": [
        {
          "output_type": "stream",
          "text": [
            "(400, 20, 50)\n",
            "(71, 20, 50)\n"
          ],
          "name": "stdout"
        }
      ]
    },
    {
      "cell_type": "code",
      "metadata": {
        "id": "_qvSUkWd45bN",
        "outputId": "973edf1b-eb56-419f-e1ad-ab7999034926",
        "colab": {
          "base_uri": "https://localhost:8080/"
        }
      },
      "source": [
        "# Przypadki negatywne\n",
        "(X_neg_train, X_neg_test) = load_data_by_label(label=0)\n",
        "\n",
        "print(X_neg_train.shape)\n",
        "print(X_neg_test.shape)"
      ],
      "execution_count": 14,
      "outputs": [
        {
          "output_type": "stream",
          "text": [
            "(500, 20, 50)\n",
            "(86, 20, 50)\n"
          ],
          "name": "stdout"
        }
      ]
    }
  ]
}