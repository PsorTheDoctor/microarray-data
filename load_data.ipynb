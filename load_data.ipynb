{
  "nbformat": 4,
  "nbformat_minor": 0,
  "metadata": {
    "colab": {
      "name": "load_data.ipynb",
      "provenance": [],
      "collapsed_sections": [],
      "authorship_tag": "ABX9TyNDAkBhOQjfjse1il1p2IqY",
      "include_colab_link": true
    },
    "kernelspec": {
      "name": "python3",
      "display_name": "Python 3"
    },
    "language_info": {
      "name": "python"
    }
  },
  "cells": [
    {
      "cell_type": "markdown",
      "metadata": {
        "id": "view-in-github",
        "colab_type": "text"
      },
      "source": [
        "<a href=\"https://colab.research.google.com/github/PsorTheDoctor/microarray-data/blob/main/load_data.ipynb\" target=\"_parent\"><img src=\"https://colab.research.google.com/assets/colab-badge.svg\" alt=\"Open In Colab\"/></a>"
      ]
    },
    {
      "cell_type": "markdown",
      "metadata": {
        "id": "iFEV6osNKMEL"
      },
      "source": [
        "#Przygotowanie danych mikromacierzowych"
      ]
    },
    {
      "cell_type": "code",
      "metadata": {
        "id": "JbTEJ3hOg3S4"
      },
      "source": [
        "import numpy as np\n",
        "import pandas as pd\n",
        "import matplotlib.pyplot as plt\n",
        "import tensorflow as tf\n",
        "import os\n",
        "from scipy.io import arff\n",
        "from sklearn.preprocessing import MinMaxScaler"
      ],
      "execution_count": null,
      "outputs": []
    },
    {
      "cell_type": "code",
      "metadata": {
        "id": "pnVvmlk14qR_"
      },
      "source": [
        "def load_data(path='/content/data'):\n",
        "  \"\"\"\n",
        "  Funkcja działa analogicznie do load_data zbioru MNIST.\n",
        "  Zwraca (X_train, y_train), (X_test, y_test) o wymiarach:\n",
        "  (857, 20, 50)\n",
        "  (857,)\n",
        "  (200, 20, 50)\n",
        "  (200,)\n",
        "\n",
        "  Dla potrzeb wizualizacji każdy gen przyjmuje wymiary prostokąta 20 x 50.\n",
        "  \"\"\"\n",
        "  microarrays = []\n",
        "\n",
        "  # Załadowanie danych\n",
        "  for filename in os.listdir(path):\n",
        "    if os.path.isfile(os.path.join(path, filename)):\n",
        "    \n",
        "      if filename[-5:] == '.arff':\n",
        "        microarray, _ = arff.loadarff(filename)\n",
        "        microarrays.append(microarray)\n",
        "\n",
        "  # Konkatenacja danych z plików do jednej listy o długości 1057\n",
        "  data = [*microarrays[0], *microarrays[1], *microarrays[2], *microarrays[3],\n",
        "          *microarrays[4], *microarrays[5], *microarrays[6], *microarrays[7]]\n",
        "\n",
        "  # 1057 pacjentów\n",
        "  patients = len(data)\n",
        "  # 1000 genów i 1 etykieta na pacjenta\n",
        "  genes = len(data[0]) - 1\n",
        "\n",
        "  # Zamiana listy data na macierze numpy\n",
        "  X_flatten = np.zeros((patients, genes))\n",
        "  X_reshaped = np.zeros((patients, 20, 50))\n",
        "  y = np.zeros(patients)\n",
        "\n",
        "  for i in range(patients):\n",
        "    for j in range(genes):\n",
        "      X_flatten[i][j] = data[i][j]\n",
        "\n",
        "    # Normalizacja w przedziale <0, 1> w obrębie pojedynczego genu\n",
        "    df = pd.DataFrame(X_flatten[i])\n",
        "    x = df.select_dtypes(include=[np.number])\n",
        "    scaler = MinMaxScaler(feature_range=(0, 1))\n",
        "    x_norm = scaler.fit_transform(x)\n",
        "\n",
        "    # Zmiana kształtu genu na 20 x 50\n",
        "    X_reshaped[i] = np.reshape(x_norm, (20, 50))\n",
        "\n",
        "    # Zastąpienie etykiet wartościami logicznymi\n",
        "    if str(data[i][1000]) == \"b'yes'\":\n",
        "      y[i] = 1\n",
        "    elif str(data[i][1000]) == \"b'no'\":\n",
        "      y[i] = 0\n",
        "  \n",
        "  # Przetasowanie elementów\n",
        "  indices = np.arange(1057)\n",
        "  X_shuffled = tf.gather(X_reshaped, indices)\n",
        "  y_shuffled = tf.gather(y, indices)\n",
        "\n",
        "  # Podział na zbiór treningowy i testowy\n",
        "  X_train = X_shuffled[:857]\n",
        "  X_test = X_shuffled[-200:]\n",
        "  y_train = y_shuffled[:857]\n",
        "  y_test = y_shuffled[-200:]\n",
        "\n",
        "  return (X_train, y_train), (X_test, y_test)"
      ],
      "execution_count": null,
      "outputs": []
    },
    {
      "cell_type": "code",
      "metadata": {
        "colab": {
          "base_uri": "https://localhost:8080/"
        },
        "id": "DBirzkbWBWUP",
        "outputId": "d5233705-9029-4425-e9a8-45a86b30b96f"
      },
      "source": [
        "(X_train, y_train), (X_test, y_test) = load_data()\n",
        "\n",
        "print(X_train.shape)\n",
        "print(X_test.shape)\n",
        "print(y_train.shape)\n",
        "print(y_test.shape)"
      ],
      "execution_count": null,
      "outputs": [
        {
          "output_type": "stream",
          "text": [
            "(857, 20, 50)\n",
            "(200, 20, 50)\n",
            "(857,)\n",
            "(200,)\n"
          ],
          "name": "stdout"
        }
      ]
    },
    {
      "cell_type": "code",
      "metadata": {
        "colab": {
          "base_uri": "https://localhost:8080/",
          "height": 199
        },
        "id": "kHtAOVxQE1-F",
        "outputId": "e0a22046-eaea-45a7-b915-a16230c27697"
      },
      "source": [
        "plt.imshow(X_train[0], cmap='viridis')"
      ],
      "execution_count": null,
      "outputs": [
        {
          "output_type": "execute_result",
          "data": {
            "text/plain": [
              "<matplotlib.image.AxesImage at 0x7f59b70c1150>"
            ]
          },
          "metadata": {
            "tags": []
          },
          "execution_count": 140
        },
        {
          "output_type": "display_data",
          "data": {
            "image/png": "[encoded data removed]",
            "text/plain": [
              "<Figure size 432x288 with 1 Axes>"
            ]
          },
          "metadata": {
            "tags": [],
            "needs_background": "light"
          }
        }
      ]
    }
  ]
}