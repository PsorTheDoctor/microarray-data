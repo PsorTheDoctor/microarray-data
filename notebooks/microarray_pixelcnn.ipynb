{
  "nbformat": 4,
  "nbformat_minor": 0,
  "metadata": {
    "colab": {
      "name": "microarray_pixelcnn.ipynb",
      "provenance": [],
      "collapsed_sections": [],
      "authorship_tag": "ABX9TyPE6bzBQSmPLnnM39XzRFi0",
      "include_colab_link": true
    },
    "kernelspec": {
      "name": "python3",
      "display_name": "Python 3"
    },
    "language_info": {
      "name": "python"
    },
    "accelerator": "GPU"
  },
  "cells": [
    {
      "cell_type": "markdown",
      "metadata": {
        "id": "view-in-github",
        "colab_type": "text"
      },
      "source": [
        "<a href=\"https://colab.research.google.com/github/PsorTheDoctor/microarray-data/blob/main/notebooks/microarray_pixelcnn.ipynb\" target=\"_parent\"><img src=\"https://colab.research.google.com/assets/colab-badge.svg\" alt=\"Open In Colab\"/></a>"
      ]
    },
    {
      "cell_type": "markdown",
      "metadata": {
        "id": "WWCYgQAABKid"
      },
      "source": [
        "#PixelCNN: Generowanie mikromacierzy\n",
        "##Import bibliotek"
      ]
    },
    {
      "cell_type": "code",
      "metadata": {
        "colab": {
          "base_uri": "https://localhost:8080/"
        },
        "id": "ihY37MrFko-i",
        "outputId": "44182d85-d33e-4b70-b260-eb708a8f5cb6"
      },
      "source": [
        "!git clone https://github.com/PsorTheDoctor/microarray-data.git\n",
        "%cd microarray-data/"
      ],
      "execution_count": 1,
      "outputs": [
        {
          "output_type": "stream",
          "text": [
            "Cloning into 'microarray-data'...\n",
            "remote: Enumerating objects: 132, done.\u001b[K\n",
            "remote: Counting objects: 100% (132/132), done.\u001b[K\n",
            "remote: Compressing objects: 100% (124/124), done.\u001b[K\n",
            "remote: Total 132 (delta 42), reused 0 (delta 0), pack-reused 0\u001b[K\n",
            "Receiving objects: 100% (132/132), 3.35 MiB | 3.52 MiB/s, done.\n",
            "Resolving deltas: 100% (42/42), done.\n",
            "/content/microarray-data\n"
          ],
          "name": "stdout"
        }
      ]
    },
    {
      "cell_type": "code",
      "metadata": {
        "id": "DTLjE01TAf4J"
      },
      "source": [
        "import numpy as np\n",
        "import pandas as pd\n",
        "import tensorflow as tf\n",
        "from tensorflow import keras\n",
        "from tensorflow.keras import layers\n",
        "from tqdm import tqdm\n",
        "import matplotlib.pyplot as plt\n",
        "\n",
        "from utils.load_data import load_data_by_label\n",
        "from utils.augmentation import *"
      ],
      "execution_count": 3,
      "outputs": []
    },
    {
      "cell_type": "markdown",
      "metadata": {
        "id": "Lug7PJ_xBQI9"
      },
      "source": [
        "##Załadowanie danych"
      ]
    },
    {
      "cell_type": "code",
      "metadata": {
        "id": "YI2AIzVEBIrW"
      },
      "source": [
        "num_classes = 1\n",
        "input_shape = (32, 32, 1)\n",
        "n_residual_blocks = 5\n",
        "# Podział danych na traningowe i testowe\n",
        "(x1, x2) = load_data_by_label(label=1)\n",
        "# Zaokrąglenie wszystkich pikseli mniejszych od 33% z 256 do 0\n",
        "# Wszystko powyżej tej wartości zostanie zaokrąglone do 1, więc wartości\n",
        "# będą równe 0 lub 1\n",
        "data = np.concatenate((x1, x2), axis=0)\n",
        "# data = np.where(data < (0.33 * 256), 0, 1)\n",
        "data = data.astype(np.float32)"
      ],
      "execution_count": 4,
      "outputs": []
    },
    {
      "cell_type": "markdown",
      "metadata": {
        "id": "NdhDl5CNKdNm"
      },
      "source": [
        "##Stworzenie warstw modelu"
      ]
    },
    {
      "cell_type": "code",
      "metadata": {
        "id": "R8F0wRltBLGc"
      },
      "source": [
        "class PixelConvLayer(layers.Layer):\n",
        "  def __init__(self, mask_type, **kwargs):\n",
        "    super(PixelConvLayer, self).__init__()\n",
        "    self.mask_type = mask_type\n",
        "    self.conv = layers.Conv2D(**kwargs)\n",
        "\n",
        "  def build(self, input_shape):\n",
        "    self.conv.build(input_shape)\n",
        "    kernel_shape = self.conv.kernel.get_shape()\n",
        "    self.mask = np.zeros(shape=kernel_shape)\n",
        "    self.mask[: kernel_shape[0] // 2, ...] = 1.0\n",
        "    self.mask[kernel_shape[0] // 2, : kernel_shape[1] // 2, ...] = 1.0\n",
        "    if self.mask_type == 'B':\n",
        "      self.mask[kernel_shape[0] // 2, kernel_shape[1] // 2, ...] = 1.0\n",
        "\n",
        "  def call(self, inputs):\n",
        "    self.conv.kernel.assign(self.conv.kernel * self.mask)\n",
        "    return self.conv(inputs)\n",
        "\n",
        "\n",
        "class ResidualBlock(layers.Layer):\n",
        "  def __init__(self, filters, **kwargs):\n",
        "    super(ResidualBlock, self).__init__(kwargs);\n",
        "    self.conv1 = layers.Conv2D(\n",
        "        filters=filters, kernel_size=1, activation='relu'\n",
        "    )\n",
        "    self.pixel_conv = PixelConvLayer(\n",
        "        mask_type='B',\n",
        "        filters = filters // 2,\n",
        "        kernel_size=3,\n",
        "        activation='relu',\n",
        "        padding='same'\n",
        "    )\n",
        "    self.conv2 = layers.Conv2D(\n",
        "        filters=filters, kernel_size=1, activation='relu'\n",
        "    )\n",
        "\n",
        "  def call(self, inputs):\n",
        "    x = self.conv1(inputs)\n",
        "    x = self.pixel_conv(x)\n",
        "    x = self.conv2(x)\n",
        "    return layers.add([inputs, x])"
      ],
      "execution_count": 5,
      "outputs": []
    },
    {
      "cell_type": "markdown",
      "metadata": {
        "id": "-6jAS8QuMhVt"
      },
      "source": [
        "##Budowa modelu"
      ]
    },
    {
      "cell_type": "code",
      "metadata": {
        "colab": {
          "base_uri": "https://localhost:8080/"
        },
        "id": "98GvFMF4MkTz",
        "outputId": "9b283225-3431-4f26-8635-f52417118ff2"
      },
      "source": [
        "inputs = keras.Input(shape=input_shape)\n",
        "x = PixelConvLayer(\n",
        "    mask_type='A', filters=128, kernel_size=7, activation='relu', padding='same'\n",
        ")(inputs)\n",
        "\n",
        "for _ in range(n_residual_blocks):\n",
        "  x = ResidualBlock(filters=128)(x)\n",
        "\n",
        "for _ in range(2):\n",
        "  x = PixelConvLayer(\n",
        "      mask_type='B',\n",
        "      filters=128,\n",
        "      kernel_size=1,\n",
        "      strides=1,\n",
        "      activation='relu',\n",
        "      padding='valid'\n",
        "  )(x)\n",
        "\n",
        "out = layers.Conv2D(\n",
        "    filters=1, kernel_size=1, strides=1, activation='sigmoid', padding='valid'\n",
        ")(x)\n",
        "\n",
        "pixel_cnn = keras.Model(inputs, out)\n",
        "adam = keras.optimizers.Adam(learning_rate=0.0005)\n",
        "pixel_cnn.compile(optimizer=adam, loss='binary_crossentropy')\n",
        "pixel_cnn.summary()"
      ],
      "execution_count": 7,
      "outputs": [
        {
          "output_type": "stream",
          "text": [
            "Model: \"model_1\"\n",
            "_________________________________________________________________\n",
            "Layer (type)                 Output Shape              Param #   \n",
            "=================================================================\n",
            "input_2 (InputLayer)         [(None, 32, 32, 1)]       0         \n",
            "_________________________________________________________________\n",
            "pixel_conv_layer_8 (PixelCon (None, 32, 32, 128)       6400      \n",
            "_________________________________________________________________\n",
            "residual_block_5 (ResidualBl (None, 32, 32, 128)       98624     \n",
            "_________________________________________________________________\n",
            "residual_block_6 (ResidualBl (None, 32, 32, 128)       98624     \n",
            "_________________________________________________________________\n",
            "residual_block_7 (ResidualBl (None, 32, 32, 128)       98624     \n",
            "_________________________________________________________________\n",
            "residual_block_8 (ResidualBl (None, 32, 32, 128)       98624     \n",
            "_________________________________________________________________\n",
            "residual_block_9 (ResidualBl (None, 32, 32, 128)       98624     \n",
            "_________________________________________________________________\n",
            "pixel_conv_layer_14 (PixelCo (None, 32, 32, 128)       16512     \n",
            "_________________________________________________________________\n",
            "pixel_conv_layer_15 (PixelCo (None, 32, 32, 128)       16512     \n",
            "_________________________________________________________________\n",
            "conv2d_37 (Conv2D)           (None, 32, 32, 1)         129       \n",
            "=================================================================\n",
            "Total params: 532,673\n",
            "Trainable params: 39,553\n",
            "Non-trainable params: 493,120\n",
            "_________________________________________________________________\n"
          ],
          "name": "stdout"
        }
      ]
    },
    {
      "cell_type": "code",
      "metadata": {
        "id": "amDvwdH07lSc"
      },
      "source": [
        "history = pixel_cnn.fit(\n",
        "    x=data, y=data, batch_size=128, epochs=500, validation_split=0.1, verbose=2\n",
        ")"
      ],
      "execution_count": null,
      "outputs": []
    },
    {
      "cell_type": "code",
      "metadata": {
        "colab": {
          "base_uri": "https://localhost:8080/",
          "height": 296
        },
        "id": "ZCEQmcJim0NZ",
        "outputId": "0b36b02d-9e31-4689-be1f-60946c01f916"
      },
      "source": [
        "plt.plot(history.history['loss'])\n",
        "plt.xlabel('Epoka')\n",
        "plt.ylabel('Strata')"
      ],
      "execution_count": 9,
      "outputs": [
        {
          "output_type": "execute_result",
          "data": {
            "text/plain": [
              "Text(0, 0.5, 'Strata')"
            ]
          },
          "metadata": {
            "tags": []
          },
          "execution_count": 9
        },
        {
          "output_type": "display_data",
          "data": {
            "image/png": "[encoded data removed]",
            "text/plain": [
              "<Figure size 432x288 with 1 Axes>"
            ]
          },
          "metadata": {
            "tags": [],
            "needs_background": "light"
          }
        }
      ]
    },
    {
      "cell_type": "code",
      "metadata": {
        "colab": {
          "base_uri": "https://localhost:8080/",
          "height": 296
        },
        "id": "0iWi1Evu_ko0",
        "outputId": "16f75866-85d1-432b-ed46-ecf9cd56c219"
      },
      "source": [
        "plt.plot(history.history['val_loss'])\n",
        "plt.xlabel('Epoka')\n",
        "plt.ylabel('Strata')"
      ],
      "execution_count": 10,
      "outputs": [
        {
          "output_type": "execute_result",
          "data": {
            "text/plain": [
              "Text(0, 0.5, 'Strata')"
            ]
          },
          "metadata": {
            "tags": []
          },
          "execution_count": 10
        },
        {
          "output_type": "display_data",
          "data": {
            "image/png": "[encoded data removed]",
            "text/plain": [
              "<Figure size 432x288 with 1 Axes>"
            ]
          },
          "metadata": {
            "tags": [],
            "needs_background": "light"
          }
        }
      ]
    },
    {
      "cell_type": "markdown",
      "metadata": {
        "id": "N24P8Z9-T7XX"
      },
      "source": [
        "##Demonstracja"
      ]
    },
    {
      "cell_type": "code",
      "metadata": {
        "colab": {
          "base_uri": "https://localhost:8080/"
        },
        "id": "rw3u7OYUTxWp",
        "outputId": "8fe9a081-d834-4244-80e2-244080b2b9e7"
      },
      "source": [
        "from IPython.display import Image, display\n",
        "\n",
        "batch = 10  # liczba elementów do wygenerowania\n",
        "pixels = np.zeros(shape=(batch,) + (pixel_cnn.input_shape)[1:])\n",
        "batch, rows, cols, channels = pixels.shape\n",
        "\n",
        "for row in tqdm(range(rows)):\n",
        "  for col in range(cols):\n",
        "    for channel in range(channels):\n",
        "      \n",
        "      probs = pixel_cnn.predict(pixels)[:, row, col, channel]\n",
        "      \n",
        "      pixels[:, row, col, channel] = tf.math.ceil(\n",
        "          probs - tf.random.uniform(probs.shape)\n",
        "      )\n",
        "\n",
        "# def deprocess_image(x):\n",
        "#   x = np.stack((x, x, x), 2)\n",
        "\n",
        "#   x *= 255.0\n",
        "\n",
        "#   x = np.clip(x, 0, 255).astype('uint8')\n",
        "#   return x\n",
        "\n",
        "# for i, pic in enumerate(pixels):\n",
        "#   keras.preprocessing.image.save_img(\n",
        "#       'generated_image_{}.png'.format(i), deprocess_image(np.squeeze(pic, -1))\n",
        "#   )\n",
        "\n",
        "# display(Image('generated_image_0.png'))\n",
        "# display(Image('generated_image_1.png'))\n",
        "# display(Image('generated_image_2.png'))\n",
        "# display(Image('generated_image_3.png'))"
      ],
      "execution_count": 11,
      "outputs": [
        {
          "output_type": "stream",
          "text": [
            "100%|██████████| 32/32 [00:43<00:00,  1.36s/it]\n"
          ],
          "name": "stderr"
        }
      ]
    },
    {
      "cell_type": "code",
      "metadata": {
        "colab": {
          "base_uri": "https://localhost:8080/"
        },
        "id": "3pvTZ5t9uu9_",
        "outputId": "2f50107c-a1c6-4114-9778-f349cc0705f4"
      },
      "source": [
        "print(pixels.shape)"
      ],
      "execution_count": 12,
      "outputs": [
        {
          "output_type": "stream",
          "text": [
            "(10, 32, 32, 1)\n"
          ],
          "name": "stdout"
        }
      ]
    },
    {
      "cell_type": "code",
      "metadata": {
        "colab": {
          "base_uri": "https://localhost:8080/",
          "height": 284
        },
        "id": "RCxDxWlzvqaY",
        "outputId": "74bbfe47-7a9c-4da3-9418-bd4b25385bda"
      },
      "source": [
        "x_aug = pixels[0].reshape((32, 32))\n",
        "plt.imshow(x_aug, cmap='viridis')"
      ],
      "execution_count": 13,
      "outputs": [
        {
          "output_type": "execute_result",
          "data": {
            "text/plain": [
              "<matplotlib.image.AxesImage at 0x7f0e720a7d50>"
            ]
          },
          "metadata": {
            "tags": []
          },
          "execution_count": 13
        },
        {
          "output_type": "display_data",
          "data": {
            "image/png": "[encoded data removed]",
            "text/plain": [
              "<Figure size 432x288 with 1 Axes>"
            ]
          },
          "metadata": {
            "tags": [],
            "needs_background": "light"
          }
        }
      ]
    }
  ]
}