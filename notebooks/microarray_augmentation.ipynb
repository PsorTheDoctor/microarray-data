{
  "nbformat": 4,
  "nbformat_minor": 0,
  "metadata": {
    "colab": {
      "name": "microarray_augmentation.ipynb",
      "provenance": [],
      "collapsed_sections": [],
      "authorship_tag": "ABX9TyPJYy7Nmt2n1du0ubGjS/tk",
      "include_colab_link": true
    },
    "kernelspec": {
      "name": "python3",
      "display_name": "Python 3"
    },
    "language_info": {
      "name": "python"
    }
  },
  "cells": [
    {
      "cell_type": "markdown",
      "metadata": {
        "id": "view-in-github",
        "colab_type": "text"
      },
      "source": [
        "<a href=\"https://colab.research.google.com/github/PsorTheDoctor/microarray-data/blob/main/notebooks/microarray_augmentation.ipynb\" target=\"_parent\"><img src=\"https://colab.research.google.com/assets/colab-badge.svg\" alt=\"Open In Colab\"/></a>"
      ]
    },
    {
      "cell_type": "markdown",
      "metadata": {
        "id": "bakLL6CELver"
      },
      "source": [
        "#Augmentacja danych mikromacierzowych: CutOut, CutMix, MixUp"
      ]
    },
    {
      "cell_type": "code",
      "metadata": {
        "id": "maTPFYtJEUzY",
        "colab": {
          "base_uri": "https://localhost:8080/"
        },
        "outputId": "d2e1fe57-069d-4e7a-e63b-ab7eb9d43edb"
      },
      "source": [
        "!git clone https://github.com/PsorTheDoctor/microarray-data.git"
      ],
      "execution_count": 1,
      "outputs": [
        {
          "output_type": "stream",
          "text": [
            "Cloning into 'microarray-data'...\n",
            "remote: Enumerating objects: 124, done.\u001b[K\n",
            "remote: Counting objects: 100% (124/124), done.\u001b[K\n",
            "remote: Compressing objects: 100% (116/116), done.\u001b[K\n",
            "remote: Total 124 (delta 39), reused 0 (delta 0), pack-reused 0\u001b[K\n",
            "Receiving objects: 100% (124/124), 3.32 MiB | 4.01 MiB/s, done.\n",
            "Resolving deltas: 100% (39/39), done.\n"
          ],
          "name": "stdout"
        }
      ]
    },
    {
      "cell_type": "code",
      "metadata": {
        "colab": {
          "base_uri": "https://localhost:8080/"
        },
        "id": "zBcKcIl4WcSi",
        "outputId": "b70467f3-a347-4f41-d503-5560f7bb468f"
      },
      "source": [
        "%cd microarray-data/"
      ],
      "execution_count": 2,
      "outputs": [
        {
          "output_type": "stream",
          "text": [
            "/content/microarray-data\n"
          ],
          "name": "stdout"
        }
      ]
    },
    {
      "cell_type": "code",
      "metadata": {
        "id": "iYsgVB44GCdI"
      },
      "source": [
        "import numpy as np\n",
        "import matplotlib.pyplot as plt\n",
        "\n",
        "from utils.load_data import load_data\n",
        "from utils.augmentation import *"
      ],
      "execution_count": 11,
      "outputs": []
    },
    {
      "cell_type": "code",
      "metadata": {
        "colab": {
          "base_uri": "https://localhost:8080/"
        },
        "id": "OrUklpSiJfxY",
        "outputId": "30c5b076-01a0-4292-d0ab-b8b375dea597"
      },
      "source": [
        "(X_train, y_train), (X_test, y_test) = load_data()\n",
        "\n",
        "print(X_train.shape)\n",
        "print(X_test.shape)\n",
        "print(y_train.shape)\n",
        "print(y_test.shape)"
      ],
      "execution_count": 5,
      "outputs": [
        {
          "output_type": "stream",
          "text": [
            "(857, 32, 32)\n",
            "(200, 32, 32)\n",
            "(857,)\n",
            "(200,)\n"
          ],
          "name": "stdout"
        }
      ]
    },
    {
      "cell_type": "code",
      "metadata": {
        "colab": {
          "base_uri": "https://localhost:8080/",
          "height": 284
        },
        "id": "THki9qw-XP2l",
        "outputId": "052dd459-e073-4b45-d888-b3674b3b91c7"
      },
      "source": [
        "plt.imshow(X_train[0], cmap='viridis')"
      ],
      "execution_count": 6,
      "outputs": [
        {
          "output_type": "execute_result",
          "data": {
            "text/plain": [
              "<matplotlib.image.AxesImage at 0x7fc130021150>"
            ]
          },
          "metadata": {
            "tags": []
          },
          "execution_count": 6
        },
        {
          "output_type": "display_data",
          "data": {
            "image/png": "[encoded data removed]",
            "text/plain": [
              "<Figure size 432x288 with 1 Axes>"
            ]
          },
          "metadata": {
            "tags": [],
            "needs_background": "light"
          }
        }
      ]
    },
    {
      "cell_type": "code",
      "metadata": {
        "colab": {
          "base_uri": "https://localhost:8080/",
          "height": 284
        },
        "id": "uGKFyKdWX351",
        "outputId": "60c8bcc9-16af-488e-e4e9-df0b7b1887d9"
      },
      "source": [
        "plt.imshow(X_train[1], cmap='viridis')"
      ],
      "execution_count": 7,
      "outputs": [
        {
          "output_type": "execute_result",
          "data": {
            "text/plain": [
              "<matplotlib.image.AxesImage at 0x7fc1303ea190>"
            ]
          },
          "metadata": {
            "tags": []
          },
          "execution_count": 7
        },
        {
          "output_type": "display_data",
          "data": {
            "image/png": "[encoded data removed]",
            "text/plain": [
              "<Figure size 432x288 with 1 Axes>"
            ]
          },
          "metadata": {
            "tags": [],
            "needs_background": "light"
          }
        }
      ]
    },
    {
      "cell_type": "markdown",
      "metadata": {
        "id": "6OfbCJqDN3f3"
      },
      "source": [
        "##CutOut"
      ]
    },
    {
      "cell_type": "code",
      "metadata": {
        "colab": {
          "base_uri": "https://localhost:8080/",
          "height": 284
        },
        "id": "HAsAN21vR13F",
        "outputId": "076c2e35-79a6-40e1-a625-1fc4655e6e77"
      },
      "source": [
        "(X_aug, y_aug) = augment(X_train[:10], y_train[:10], method='cutout')\n",
        "\n",
        "plt.imshow(X_aug[0], cmap='viridis')"
      ],
      "execution_count": 8,
      "outputs": [
        {
          "output_type": "execute_result",
          "data": {
            "text/plain": [
              "<matplotlib.image.AxesImage at 0x7fc130281b10>"
            ]
          },
          "metadata": {
            "tags": []
          },
          "execution_count": 8
        },
        {
          "output_type": "display_data",
          "data": {
            "image/png": "[encoded data removed]",
            "text/plain": [
              "<Figure size 432x288 with 1 Axes>"
            ]
          },
          "metadata": {
            "tags": [],
            "needs_background": "light"
          }
        }
      ]
    },
    {
      "cell_type": "markdown",
      "metadata": {
        "id": "EtZAJxOTOL3T"
      },
      "source": [
        "#CutMix"
      ]
    },
    {
      "cell_type": "code",
      "metadata": {
        "colab": {
          "base_uri": "https://localhost:8080/",
          "height": 284
        },
        "id": "cqFegHuYJxET",
        "outputId": "7bfdc90e-6d44-4e33-d01a-f27e4e08c738"
      },
      "source": [
        "(X_aug, y_aug) = augment(X_train[:10], y_train[:10], method='cutmix')\n",
        "\n",
        "plt.imshow(X_aug[0], cmap='viridis')"
      ],
      "execution_count": 9,
      "outputs": [
        {
          "output_type": "execute_result",
          "data": {
            "text/plain": [
              "<matplotlib.image.AxesImage at 0x7fc13022e410>"
            ]
          },
          "metadata": {
            "tags": []
          },
          "execution_count": 9
        },
        {
          "output_type": "display_data",
          "data": {
            "image/png": "[encoded data removed]",
            "text/plain": [
              "<Figure size 432x288 with 1 Axes>"
            ]
          },
          "metadata": {
            "tags": [],
            "needs_background": "light"
          }
        }
      ]
    },
    {
      "cell_type": "markdown",
      "metadata": {
        "id": "N9EruJH2Y-lT"
      },
      "source": [
        "#MixUp"
      ]
    },
    {
      "cell_type": "code",
      "metadata": {
        "id": "GmdJ7c9Aa64z"
      },
      "source": [
        "(X_aug, y_aug) = augment(X_train[:10], y_train[:10], method='mixup')\n",
        "\n",
        "plt.imshow(X_aug[0], cmap='viridis')\n",
        "print(y_aug[0])"
      ],
      "execution_count": null,
      "outputs": []
    }
  ]
}