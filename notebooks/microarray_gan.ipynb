{
  "nbformat": 4,
  "nbformat_minor": 0,
  "metadata": {
    "colab": {
      "name": "microarray_gan.ipynb",
      "provenance": [],
      "collapsed_sections": [],
      "authorship_tag": "ABX9TyMKHBWid7U5p40sqLb6GsiW",
      "include_colab_link": true
    },
    "kernelspec": {
      "name": "python3",
      "display_name": "Python 3"
    },
    "language_info": {
      "name": "python"
    },
    "accelerator": "GPU"
  },
  "cells": [
    {
      "cell_type": "markdown",
      "metadata": {
        "id": "view-in-github",
        "colab_type": "text"
      },
      "source": [
        "<a href=\"https://colab.research.google.com/github/PsorTheDoctor/microarray-data/blob/main/notebooks/microarray_gan.ipynb\" target=\"_parent\"><img src=\"https://colab.research.google.com/assets/colab-badge.svg\" alt=\"Open In Colab\"/></a>"
      ]
    },
    {
      "cell_type": "markdown",
      "metadata": {
        "id": "rkPo_l-TKTDH"
      },
      "source": [
        "#Vanilla GAN: Generowanie mikromacierzy\n",
        "##Import bibliotek"
      ]
    },
    {
      "cell_type": "code",
      "metadata": {
        "colab": {
          "base_uri": "https://localhost:8080/"
        },
        "id": "jKSzvq_SKPH9",
        "outputId": "f0fdaf16-0d26-4508-fe38-3cf7eab793ea"
      },
      "source": [
        "!git clone https://github.com/PsorTheDoctor/microarray-data.git\n",
        "%cd microarray-data/"
      ],
      "execution_count": 1,
      "outputs": [
        {
          "output_type": "stream",
          "text": [
            "Cloning into 'microarray-data'...\n",
            "remote: Enumerating objects: 159, done.\u001b[K\n",
            "remote: Counting objects: 100% (159/159), done.\u001b[K\n",
            "remote: Compressing objects: 100% (151/151), done.\u001b[K\n",
            "remote: Total 159 (delta 51), reused 0 (delta 0), pack-reused 0\u001b[K\n",
            "Receiving objects: 100% (159/159), 3.47 MiB | 4.38 MiB/s, done.\n",
            "Resolving deltas: 100% (51/51), done.\n",
            "/content/microarray-data\n"
          ],
          "name": "stdout"
        }
      ]
    },
    {
      "cell_type": "code",
      "metadata": {
        "id": "25uG8mT4KtBA"
      },
      "source": [
        "import numpy as np\n",
        "import tensorflow as tf\n",
        "import matplotlib.pyplot as plt\n",
        "from tensorflow import keras\n",
        "from tensorflow.keras import layers\n",
        "\n",
        "from utils.load_data import load_data_by_label\n",
        "from utils.augmentation import *"
      ],
      "execution_count": 2,
      "outputs": []
    },
    {
      "cell_type": "markdown",
      "metadata": {
        "id": "GyfWpkPvMrQ3"
      },
      "source": [
        "##Przygotowanie danych"
      ]
    },
    {
      "cell_type": "code",
      "metadata": {
        "colab": {
          "base_uri": "https://localhost:8080/"
        },
        "id": "Dubfmgu7MlAf",
        "outputId": "39c71551-80a4-4dfd-eb0f-4825f2c918d8"
      },
      "source": [
        "IMG_SHAPE = (32, 32, 1)\n",
        "BATCH_SIZE = 512\n",
        "\n",
        "latent_dim = 128\n",
        "\n",
        "(X_train, X_test) = load_data_by_label(label=1)\n",
        "X = np.concatenate((X_train, X_test))\n",
        "\n",
        "print(f'Number of examples: {len(X)}')\n",
        "print(f'Shape of the images in the dataset: {X.shape[1:]}')\n",
        "\n",
        "X = X.reshape(X.shape[0], *IMG_SHAPE).astype('float32')\n",
        "# Konwersja do obrazów binarnych\n",
        "# X = np.where(X < 0.5, 0, 1).astype('float32')"
      ],
      "execution_count": 3,
      "outputs": [
        {
          "output_type": "stream",
          "text": [
            "Number of examples: 471\n",
            "Shape of the images in the dataset: (32, 32)\n"
          ],
          "name": "stdout"
        }
      ]
    },
    {
      "cell_type": "markdown",
      "metadata": {
        "id": "NEItzDaTOSYn"
      },
      "source": [
        "##Budowa dyskryminatora"
      ]
    },
    {
      "cell_type": "code",
      "metadata": {
        "colab": {
          "base_uri": "https://localhost:8080/"
        },
        "id": "-XeXwgcxKwuH",
        "outputId": "896a0591-d375-4e13-d2a0-cdf9b90be670"
      },
      "source": [
        "def build_discriminator():\n",
        "  img_input = layers.Input(shape=IMG_SHAPE)\n",
        "  x = layers.Flatten(input_shape=IMG_SHAPE)(img_input)\n",
        "\n",
        "  # Warstwa wejściowa\n",
        "  x = layers.Dense(512)(x)\n",
        "  x = layers.LeakyReLU(alpha=0.2)(x)\n",
        "\n",
        "  # Warstwa ukryta\n",
        "  x = layers.Dense(256)(x)\n",
        "  x = layers.LeakyReLU(alpha=0.2)(x)\n",
        "\n",
        "  # Warstwa wyjściowa\n",
        "  x = layers.Dense(1, activation='sigmoid')(x)\n",
        "\n",
        "  discriminator = keras.models.Model(img_input, x, name='discriminator')\n",
        "  return discriminator\n",
        "\n",
        "discriminator = build_discriminator()\n",
        "discriminator.summary()"
      ],
      "execution_count": 41,
      "outputs": [
        {
          "output_type": "stream",
          "text": [
            "Model: \"discriminator\"\n",
            "_________________________________________________________________\n",
            "Layer (type)                 Output Shape              Param #   \n",
            "=================================================================\n",
            "input_10 (InputLayer)        [(None, 32, 32, 1)]       0         \n",
            "_________________________________________________________________\n",
            "flatten_9 (Flatten)          (None, 1024)              0         \n",
            "_________________________________________________________________\n",
            "dense_35 (Dense)             (None, 512)               524800    \n",
            "_________________________________________________________________\n",
            "leaky_re_lu_24 (LeakyReLU)   (None, 512)               0         \n",
            "_________________________________________________________________\n",
            "dense_36 (Dense)             (None, 256)               131328    \n",
            "_________________________________________________________________\n",
            "leaky_re_lu_25 (LeakyReLU)   (None, 256)               0         \n",
            "_________________________________________________________________\n",
            "dense_37 (Dense)             (None, 1)                 257       \n",
            "=================================================================\n",
            "Total params: 656,385\n",
            "Trainable params: 656,385\n",
            "Non-trainable params: 0\n",
            "_________________________________________________________________\n"
          ],
          "name": "stdout"
        }
      ]
    },
    {
      "cell_type": "markdown",
      "metadata": {
        "id": "LjFZaFR5OXmQ"
      },
      "source": [
        "#Budowa generatora"
      ]
    },
    {
      "cell_type": "code",
      "metadata": {
        "id": "T7VKE27jOeUo",
        "colab": {
          "base_uri": "https://localhost:8080/"
        },
        "outputId": "bb72f30d-d015-45ce-8443-9127871272a4"
      },
      "source": [
        "def build_generator():\n",
        "  noise = layers.Input(shape=(latent_dim,))\n",
        "\n",
        "  # Warstwa wejściowa\n",
        "  x = layers.Dense(256)(noise)\n",
        "  x = layers.LeakyReLU(alpha=0.2)(x)\n",
        "  x = layers.BatchNormalization(momentum=0.8)(x)\n",
        "\n",
        "  # Warstwa ukryta\n",
        "  x = layers.Dense(512)(x)\n",
        "  x = layers.LeakyReLU(alpha=0.2)(x)\n",
        "  x = layers.BatchNormalization(momentum=0.8)(x)\n",
        "\n",
        "  # Warstwa wyjściowa\n",
        "  x = layers.Dense(1024)(x)\n",
        "  x = layers.LeakyReLU(alpha=0.2)(x)\n",
        "  x = layers.BatchNormalization(momentum=0.8)(x)\n",
        "  x = layers.Reshape((32, 32, 1))(x)\n",
        "\n",
        "  generator = keras.models.Model(noise, x, name='generator')\n",
        "  return generator\n",
        "\n",
        "generator = build_generator()\n",
        "generator.summary()"
      ],
      "execution_count": 42,
      "outputs": [
        {
          "output_type": "stream",
          "text": [
            "Model: \"generator\"\n",
            "_________________________________________________________________\n",
            "Layer (type)                 Output Shape              Param #   \n",
            "=================================================================\n",
            "input_11 (InputLayer)        [(None, 128)]             0         \n",
            "_________________________________________________________________\n",
            "dense_38 (Dense)             (None, 256)               33024     \n",
            "_________________________________________________________________\n",
            "leaky_re_lu_26 (LeakyReLU)   (None, 256)               0         \n",
            "_________________________________________________________________\n",
            "batch_normalization_12 (Batc (None, 256)               1024      \n",
            "_________________________________________________________________\n",
            "dense_39 (Dense)             (None, 512)               131584    \n",
            "_________________________________________________________________\n",
            "leaky_re_lu_27 (LeakyReLU)   (None, 512)               0         \n",
            "_________________________________________________________________\n",
            "batch_normalization_13 (Batc (None, 512)               2048      \n",
            "_________________________________________________________________\n",
            "dense_40 (Dense)             (None, 1024)              525312    \n",
            "_________________________________________________________________\n",
            "leaky_re_lu_28 (LeakyReLU)   (None, 1024)              0         \n",
            "_________________________________________________________________\n",
            "batch_normalization_14 (Batc (None, 1024)              4096      \n",
            "_________________________________________________________________\n",
            "reshape_3 (Reshape)          (None, 32, 32, 1)         0         \n",
            "=================================================================\n",
            "Total params: 697,088\n",
            "Trainable params: 693,504\n",
            "Non-trainable params: 3,584\n",
            "_________________________________________________________________\n"
          ],
          "name": "stdout"
        }
      ]
    },
    {
      "cell_type": "markdown",
      "metadata": {
        "id": "24f5dwhrPR43"
      },
      "source": [
        "##Nadpisanie kroku treningowego"
      ]
    },
    {
      "cell_type": "code",
      "metadata": {
        "id": "Lhi6FfjgPmeQ"
      },
      "source": [
        "class GAN(keras.Model):\n",
        "    def __init__(self, discriminator, generator, latent_dim):\n",
        "        super(GAN, self).__init__()\n",
        "        self.discriminator = discriminator\n",
        "        self.generator = generator\n",
        "        self.latent_dim = latent_dim\n",
        "\n",
        "    def compile(self, d_optimizer, g_optimizer, loss_fn):\n",
        "        super(GAN, self).compile()\n",
        "        self.d_optimizer = d_optimizer\n",
        "        self.g_optimizer = g_optimizer\n",
        "        self.loss_fn = loss_fn\n",
        "        self.d_loss_metric = keras.metrics.Mean(name=\"d_loss\")\n",
        "        self.g_loss_metric = keras.metrics.Mean(name=\"g_loss\")\n",
        "\n",
        "    @property\n",
        "    def metrics(self):\n",
        "        return [self.d_loss_metric, self.g_loss_metric]\n",
        "\n",
        "    def train_step(self, real_images):\n",
        "        # Sample random points in the latent space\n",
        "        batch_size = tf.shape(real_images)[0]\n",
        "        random_latent_vectors = tf.random.normal(shape=(batch_size, self.latent_dim))\n",
        "\n",
        "        # Decode them to fake images\n",
        "        generated_images = self.generator(random_latent_vectors)\n",
        "\n",
        "        # Combine them with real images\n",
        "        combined_images = tf.concat([generated_images, real_images], axis=0)\n",
        "\n",
        "        # Assemble labels discriminating real from fake images\n",
        "        labels = tf.concat(\n",
        "            [tf.ones((batch_size, 1)), tf.zeros((batch_size, 1))], axis=0\n",
        "        )\n",
        "        # Add random noise to the labels - important trick!\n",
        "        labels += 0.05 * tf.random.uniform(tf.shape(labels))\n",
        "\n",
        "        # Train the discriminator\n",
        "        with tf.GradientTape() as tape:\n",
        "            predictions = self.discriminator(combined_images)\n",
        "            d_loss = self.loss_fn(labels, predictions)\n",
        "        grads = tape.gradient(d_loss, self.discriminator.trainable_weights)\n",
        "        self.d_optimizer.apply_gradients(\n",
        "            zip(grads, self.discriminator.trainable_weights)\n",
        "        )\n",
        "\n",
        "        # Sample random points in the latent space\n",
        "        random_latent_vectors = tf.random.normal(shape=(batch_size, self.latent_dim))\n",
        "\n",
        "        # Assemble labels that say \"all real images\"\n",
        "        misleading_labels = tf.zeros((batch_size, 1))\n",
        "\n",
        "        # Train the generator (note that we should *not* update the weights\n",
        "        # of the discriminator)!\n",
        "        with tf.GradientTape() as tape:\n",
        "            predictions = self.discriminator(self.generator(random_latent_vectors))\n",
        "            g_loss = self.loss_fn(misleading_labels, predictions)\n",
        "        grads = tape.gradient(g_loss, self.generator.trainable_weights)\n",
        "        self.g_optimizer.apply_gradients(zip(grads, self.generator.trainable_weights))\n",
        "\n",
        "        # Update metrics\n",
        "        self.d_loss_metric.update_state(d_loss)\n",
        "        self.g_loss_metric.update_state(g_loss)\n",
        "        return {\n",
        "            \"d_loss\": self.d_loss_metric.result(),\n",
        "            \"g_loss\": self.g_loss_metric.result(),\n",
        "        }"
      ],
      "execution_count": 22,
      "outputs": []
    },
    {
      "cell_type": "markdown",
      "metadata": {
        "id": "C5Vuj57QP6l5"
      },
      "source": [
        "##Trening modelu"
      ]
    },
    {
      "cell_type": "code",
      "metadata": {
        "id": "hOuI9keCPyai"
      },
      "source": [
        "gan = GAN(discriminator=discriminator, generator=generator, latent_dim=latent_dim)\n",
        "gan.compile(\n",
        "    d_optimizer=keras.optimizers.Adam(learning_rate=0.0001),\n",
        "    g_optimizer=keras.optimizers.Adam(learning_rate=0.0001),\n",
        "    loss_fn=keras.losses.BinaryCrossentropy(),\n",
        ")"
      ],
      "execution_count": 35,
      "outputs": []
    },
    {
      "cell_type": "code",
      "metadata": {
        "id": "AzT6QIl9Ts48"
      },
      "source": [
        "history = gan.fit(X, batch_size=BATCH_SIZE, epochs=100, verbose=2)"
      ],
      "execution_count": null,
      "outputs": []
    },
    {
      "cell_type": "code",
      "metadata": {
        "colab": {
          "base_uri": "https://localhost:8080/",
          "height": 296
        },
        "id": "NpzFe6W1RYhJ",
        "outputId": "0c92f45d-a6e5-4e8a-d33b-be56339cfdd0"
      },
      "source": [
        "plt.plot(history.history['d_loss'])\n",
        "plt.xlabel('Epoka')\n",
        "plt.ylabel('Strata')"
      ],
      "execution_count": 57,
      "outputs": [
        {
          "output_type": "execute_result",
          "data": {
            "text/plain": [
              "Text(0, 0.5, 'Strata')"
            ]
          },
          "metadata": {
            "tags": []
          },
          "execution_count": 57
        },
        {
          "output_type": "display_data",
          "data": {
            "image/png": "[encoded data removed]",
            "text/plain": [
              "<Figure size 432x288 with 1 Axes>"
            ]
          },
          "metadata": {
            "tags": [],
            "needs_background": "light"
          }
        }
      ]
    },
    {
      "cell_type": "code",
      "metadata": {
        "colab": {
          "base_uri": "https://localhost:8080/",
          "height": 296
        },
        "id": "D_PFFYehRglo",
        "outputId": "0deee14b-225c-4eea-f064-42441b7c0efb"
      },
      "source": [
        "plt.plot(history.history['g_loss'])\n",
        "plt.xlabel('Epoka')\n",
        "plt.ylabel('Strata')"
      ],
      "execution_count": 58,
      "outputs": [
        {
          "output_type": "execute_result",
          "data": {
            "text/plain": [
              "Text(0, 0.5, 'Strata')"
            ]
          },
          "metadata": {
            "tags": []
          },
          "execution_count": 58
        },
        {
          "output_type": "display_data",
          "data": {
            "image/png": "[encoded data removed]",
            "text/plain": [
              "<Figure size 432x288 with 1 Axes>"
            ]
          },
          "metadata": {
            "tags": [],
            "needs_background": "light"
          }
        }
      ]
    },
    {
      "cell_type": "code",
      "metadata": {
        "colab": {
          "base_uri": "https://localhost:8080/",
          "height": 284
        },
        "id": "Hqo66CDdRn-R",
        "outputId": "cb08cba1-41f2-4228-8f52-fe2dc8f1087c"
      },
      "source": [
        "num_img = 1\n",
        "latent_dim = 128\n",
        "\n",
        "random_latent_vectors = tf.random.normal(shape=(num_img, latent_dim))\n",
        "generated_images = generator(random_latent_vectors)\n",
        "# generated_images = (generated_images * 127.5) + 127.5\n",
        "\n",
        "# for i in range(num_img):\n",
        "#   img = generated_images[i].numpy()\n",
        "#   img = keras.preprocessing.image.array_to_img(img)\n",
        "\n",
        "res = np.array(generated_images[0]).reshape((32, 32))\n",
        "\n",
        "plt.imshow(res, cmap='viridis')"
      ],
      "execution_count": 59,
      "outputs": [
        {
          "output_type": "execute_result",
          "data": {
            "text/plain": [
              "<matplotlib.image.AxesImage at 0x7fc86cd840d0>"
            ]
          },
          "metadata": {
            "tags": []
          },
          "execution_count": 59
        },
        {
          "output_type": "display_data",
          "data": {
            "image/png": "[encoded data removed]",
            "text/plain": [
              "<Figure size 432x288 with 1 Axes>"
            ]
          },
          "metadata": {
            "tags": [],
            "needs_background": "light"
          }
        }
      ]
    },
    {
      "cell_type": "code",
      "metadata": {
        "colab": {
          "base_uri": "https://localhost:8080/",
          "height": 284
        },
        "id": "P6g_elTAXfjJ",
        "outputId": "d2fad876-3ffd-4895-8f50-ebf87ba56c18"
      },
      "source": [
        "res = np.where(res < 0.8, 0, 1)\n",
        "plt.imshow(res, cmap='viridis')"
      ],
      "execution_count": 61,
      "outputs": [
        {
          "output_type": "execute_result",
          "data": {
            "text/plain": [
              "<matplotlib.image.AxesImage at 0x7fc86a30a690>"
            ]
          },
          "metadata": {
            "tags": []
          },
          "execution_count": 61
        },
        {
          "output_type": "display_data",
          "data": {
            "image/png": "[encoded data removed]",
            "text/plain": [
              "<Figure size 432x288 with 1 Axes>"
            ]
          },
          "metadata": {
            "tags": [],
            "needs_background": "light"
          }
        }
      ]
    }
  ]
}