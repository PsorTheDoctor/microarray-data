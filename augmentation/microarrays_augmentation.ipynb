{
  "nbformat": 4,
  "nbformat_minor": 0,
  "metadata": {
    "colab": {
      "name": "microarrays_augmentation.ipynb",
      "provenance": [],
      "collapsed_sections": [],
      "authorship_tag": "ABX9TyPDrVfZQ8L9/OyiKyVXVaBC",
      "include_colab_link": true
    },
    "kernelspec": {
      "name": "python3",
      "display_name": "Python 3"
    },
    "language_info": {
      "name": "python"
    }
  },
  "cells": [
    {
      "cell_type": "markdown",
      "metadata": {
        "id": "view-in-github",
        "colab_type": "text"
      },
      "source": [
        "<a href=\"https://colab.research.google.com/github/PsorTheDoctor/microarray-data/blob/main/augmentation/microarrays_augmentation.ipynb\" target=\"_parent\"><img src=\"https://colab.research.google.com/assets/colab-badge.svg\" alt=\"Open In Colab\"/></a>"
      ]
    },
    {
      "cell_type": "markdown",
      "metadata": {
        "id": "bakLL6CELver"
      },
      "source": [
        "#Augmentacja danych mikromacierzowych: CutOut, CutMix, MixUp"
      ]
    },
    {
      "cell_type": "code",
      "metadata": {
        "id": "maTPFYtJEUzY",
        "colab": {
          "base_uri": "https://localhost:8080/"
        },
        "outputId": "16377c75-6fa8-4cc8-9f1d-4be6ee03f4ee"
      },
      "source": [
        "!git clone https://github.com/PsorTheDoctor/microarray-data.git"
      ],
      "execution_count": 68,
      "outputs": [
        {
          "output_type": "stream",
          "text": [
            "Cloning into 'microarray-data'...\n",
            "remote: Enumerating objects: 82, done.\u001b[K\n",
            "remote: Counting objects: 100% (82/82), done.\u001b[K\n",
            "remote: Compressing objects: 100% (75/75), done.\u001b[K\n",
            "remote: Total 82 (delta 25), reused 0 (delta 0), pack-reused 0\u001b[K\n",
            "Unpacking objects: 100% (82/82), done.\n"
          ],
          "name": "stdout"
        }
      ]
    },
    {
      "cell_type": "code",
      "metadata": {
        "colab": {
          "base_uri": "https://localhost:8080/"
        },
        "id": "zBcKcIl4WcSi",
        "outputId": "d1de9773-71e9-401a-d445-e2fb909fca89"
      },
      "source": [
        "%cd microarray-data/"
      ],
      "execution_count": 70,
      "outputs": [
        {
          "output_type": "stream",
          "text": [
            "/content/microarray-data\n"
          ],
          "name": "stdout"
        }
      ]
    },
    {
      "cell_type": "code",
      "metadata": {
        "id": "iYsgVB44GCdI"
      },
      "source": [
        "import numpy as np\n",
        "import matplotlib.pyplot as plt\n",
        "\n",
        "from utils.load_data import load_data\n",
        "from augmentation.augmentation import *"
      ],
      "execution_count": 73,
      "outputs": []
    },
    {
      "cell_type": "code",
      "metadata": {
        "colab": {
          "base_uri": "https://localhost:8080/"
        },
        "id": "OrUklpSiJfxY",
        "outputId": "e8e37978-f295-4964-8f66-0685b596b582"
      },
      "source": [
        "(X_train, y_train), (X_test, y_test) = load_data()\n",
        "\n",
        "print(X_train.shape)\n",
        "print(X_test.shape)\n",
        "print(y_train.shape)\n",
        "print(y_test.shape)"
      ],
      "execution_count": 8,
      "outputs": [
        {
          "output_type": "stream",
          "text": [
            "(900, 20, 50)\n",
            "(157, 20, 50)\n",
            "(900,)\n",
            "(157,)\n"
          ],
          "name": "stdout"
        }
      ]
    },
    {
      "cell_type": "code",
      "metadata": {
        "colab": {
          "base_uri": "https://localhost:8080/",
          "height": 199
        },
        "id": "THki9qw-XP2l",
        "outputId": "673e601a-33f9-458f-b1a2-6d57b6754059"
      },
      "source": [
        "plt.imshow(X_train[0], cmap='viridis')"
      ],
      "execution_count": 10,
      "outputs": [
        {
          "output_type": "execute_result",
          "data": {
            "text/plain": [
              "<matplotlib.image.AxesImage at 0x7fd80eb1d0d0>"
            ]
          },
          "metadata": {
            "tags": []
          },
          "execution_count": 10
        },
        {
          "output_type": "display_data",
          "data": {
            "image/png": "[encoded data removed]",
            "text/plain": [
              "<Figure size 432x288 with 1 Axes>"
            ]
          },
          "metadata": {
            "tags": [],
            "needs_background": "light"
          }
        }
      ]
    },
    {
      "cell_type": "code",
      "metadata": {
        "colab": {
          "base_uri": "https://localhost:8080/",
          "height": 199
        },
        "id": "uGKFyKdWX351",
        "outputId": "ab6600af-ba3f-425f-abac-5c9e7679c8c2"
      },
      "source": [
        "plt.imshow(X_train[1], cmap='viridis')"
      ],
      "execution_count": 13,
      "outputs": [
        {
          "output_type": "execute_result",
          "data": {
            "text/plain": [
              "<matplotlib.image.AxesImage at 0x7fd80e5b3650>"
            ]
          },
          "metadata": {
            "tags": []
          },
          "execution_count": 13
        },
        {
          "output_type": "display_data",
          "data": {
            "image/png": "[encoded data removed]",
            "text/plain": [
              "<Figure size 432x288 with 1 Axes>"
            ]
          },
          "metadata": {
            "tags": [],
            "needs_background": "light"
          }
        }
      ]
    },
    {
      "cell_type": "markdown",
      "metadata": {
        "id": "6OfbCJqDN3f3"
      },
      "source": [
        "##CutOut"
      ]
    },
    {
      "cell_type": "code",
      "metadata": {
        "colab": {
          "base_uri": "https://localhost:8080/",
          "height": 199
        },
        "id": "HAsAN21vR13F",
        "outputId": "a177cacd-a5cd-4fe5-ca5f-32efa1917ed4"
      },
      "source": [
        "(X_aug, y_aug) = augment(X_train[:10], y_train[:10], method='cutout')\n",
        "\n",
        "plt.imshow(X_aug[0], cmap='viridis')"
      ],
      "execution_count": 46,
      "outputs": [
        {
          "output_type": "execute_result",
          "data": {
            "text/plain": [
              "<matplotlib.image.AxesImage at 0x7fd80a310cd0>"
            ]
          },
          "metadata": {
            "tags": []
          },
          "execution_count": 46
        },
        {
          "output_type": "display_data",
          "data": {
            "image/png": "[encoded data removed]",
            "text/plain": [
              "<Figure size 432x288 with 1 Axes>"
            ]
          },
          "metadata": {
            "tags": [],
            "needs_background": "light"
          }
        }
      ]
    },
    {
      "cell_type": "markdown",
      "metadata": {
        "id": "EtZAJxOTOL3T"
      },
      "source": [
        "#CutMix"
      ]
    },
    {
      "cell_type": "code",
      "metadata": {
        "colab": {
          "base_uri": "https://localhost:8080/",
          "height": 199
        },
        "id": "cqFegHuYJxET",
        "outputId": "92504556-835b-4bcc-9cd0-ad910b2051ac"
      },
      "source": [
        "(X_aug, y_aug) = augment(X_train[:10], y_train[:10], method='cutmix')\n",
        "\n",
        "plt.imshow(X_aug[0], cmap='viridis')"
      ],
      "execution_count": 48,
      "outputs": [
        {
          "output_type": "execute_result",
          "data": {
            "text/plain": [
              "<matplotlib.image.AxesImage at 0x7fd80a259250>"
            ]
          },
          "metadata": {
            "tags": []
          },
          "execution_count": 48
        },
        {
          "output_type": "display_data",
          "data": {
            "image/png": "[encoded data removed]",
            "text/plain": [
              "<Figure size 432x288 with 1 Axes>"
            ]
          },
          "metadata": {
            "tags": [],
            "needs_background": "light"
          }
        }
      ]
    },
    {
      "cell_type": "markdown",
      "metadata": {
        "id": "N9EruJH2Y-lT"
      },
      "source": [
        "#MixUp"
      ]
    },
    {
      "cell_type": "code",
      "metadata": {
        "id": "GmdJ7c9Aa64z"
      },
      "source": [
        "(X_aug, y_aug) = augment(X_train[:10], y_train[:10], method='mixup')\n",
        "\n",
        "plt.imshow(X_aug[0], cmap='viridis')\n",
        "print(y_aug[0])"
      ],
      "execution_count": null,
      "outputs": []
    }
  ]
}